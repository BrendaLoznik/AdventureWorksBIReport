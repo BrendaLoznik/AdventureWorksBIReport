{
  "nbformat": 4,
  "nbformat_minor": 0,
  "metadata": {
    "colab": {
      "name": "time series.ipynb",
      "provenance": [],
      "authorship_tag": "ABX9TyNykZGPAhfU3zlSjQF7o4Cj",
      "include_colab_link": true
    },
    "kernelspec": {
      "name": "python3",
      "display_name": "Python 3"
    },
    "language_info": {
      "name": "python"
    }
  },
  "cells": [
    {
      "cell_type": "markdown",
      "metadata": {
        "id": "view-in-github",
        "colab_type": "text"
      },
      "source": [
        "<a href=\"https://colab.research.google.com/github/BrendaLoznik/AdventureWorksBIReport/blob/main/time_series.ipynb\" target=\"_parent\"><img src=\"https://colab.research.google.com/assets/colab-badge.svg\" alt=\"Open In Colab\"/></a>"
      ]
    },
    {
      "cell_type": "code",
      "metadata": {
        "id": "YIsgtgLs9h7c"
      },
      "source": [
        "#basic libraries\n",
        "import numpy as np\n",
        "import pandas as pd\n",
        "import matplotlib.pyplot as plt\n",
        "%matplotlib inline\n",
        "import seaborn as sns\n"
      ],
      "execution_count": 1,
      "outputs": []
    },
    {
      "cell_type": "code",
      "metadata": {
        "id": "rG9u6lfa9-Hr"
      },
      "source": [
        "pd.set_option(\"display.max_columns\", 250)\n",
        "pd.set_option(\"display.max_rows\", 100)"
      ],
      "execution_count": 4,
      "outputs": []
    },
    {
      "cell_type": "code",
      "metadata": {
        "colab": {
          "base_uri": "https://localhost:8080/"
        },
        "id": "BunjbDTz9-PN",
        "outputId": "36267722-9841-4f1e-d06c-1c91d320487f"
      },
      "source": [
        "from google.colab import drive \n",
        "drive.mount('/content/gdrive')"
      ],
      "execution_count": 3,
      "outputs": [
        {
          "output_type": "stream",
          "text": [
            "Mounted at /content/gdrive\n"
          ],
          "name": "stdout"
        }
      ]
    },
    {
      "cell_type": "code",
      "metadata": {
        "id": "GI8Q4GpX-EbH"
      },
      "source": [
        "#load the nutrients dataset\n",
        "#nutrients = pd.read_csv('/content/gdrive/MyDrive/Kaggle/Agrifirm/nutrients_month.csv')\n",
        "#nutrients.head()"
      ],
      "execution_count": null,
      "outputs": []
    }
  ]
}